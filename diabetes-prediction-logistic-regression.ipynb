{
  "nbformat": 4,
  "nbformat_minor": 0,
  "metadata": {
    "colab": {
      "name": "diabetes_prediction.ipynb",
      "provenance": [],
      "authorship_tag": "ABX9TyM5xXLZELxAQECeWNSQWQPE",
      "include_colab_link": true
    },
    "kernelspec": {
      "name": "python3",
      "display_name": "Python 3"
    }
  },
  "cells": [
    {
      "cell_type": "markdown",
      "metadata": {
        "id": "view-in-github",
        "colab_type": "text"
      },
      "source": [
        "<a href=\"https://colab.research.google.com/github/avganshina/diabetes_predictions/blob/main/diabetes_prediction.ipynb\" target=\"_parent\"><img src=\"https://colab.research.google.com/assets/colab-badge.svg\" alt=\"Open In Colab\"/></a>"
      ]
    },
    {
      "cell_type": "code",
      "metadata": {
        "colab": {
          "base_uri": "https://localhost:8080/"
        },
        "id": "rK1O7w2tZdaU",
        "outputId": "c7d01cde-6e11-4089-f9a9-fd553df9b654"
      },
      "source": [
        "import numpy as np\r\n",
        "import pandas as pd\r\n",
        "\r\n",
        "# Load the dataset\r\n",
        "dataset = pd.read_csv('data_ML.csv')\r\n",
        "\r\n",
        "# Print out part of the dataset to ensure proper loading\r\n",
        "print(dataset.head())\r\n",
        "\r\n",
        "# Print the shape of dataset\r\n",
        "print(dataset.shape)\r\n",
        "\r\n",
        "#Print the name of all columns\r\n",
        "print(list(dataset.columns))"
      ],
      "execution_count": 19,
      "outputs": [
        {
          "output_type": "stream",
          "text": [
            "   Age  Polyuria  Polydipsia  ...  muscle stiffness  Obesity  class\n",
            "0   49         1           1  ...                 0        0      1\n",
            "1   68         1           1  ...                 1        0      1\n",
            "2   43         1           0  ...                 1        0      1\n",
            "3   40         0           0  ...                 0        0      0\n",
            "4   54         1           1  ...                 0        0      1\n",
            "\n",
            "[5 rows x 15 columns]\n",
            "(251, 15)\n",
            "['Age', 'Polyuria', 'Polydipsia', 'sudden weight loss', 'weakness', 'Polyphagia', 'Genital thrush', 'visual blurring', 'Itching', 'Irritability', 'delayed healing', 'partial paresis', 'muscle stiffness', 'Obesity', 'class']\n"
          ],
          "name": "stdout"
        }
      ]
    },
    {
      "cell_type": "code",
      "metadata": {
        "colab": {
          "base_uri": "https://localhost:8080/"
        },
        "id": "B3gRK3ltopW5",
        "outputId": "81cef494-5897-4f8b-a807-60f299950aca"
      },
      "source": [
        "# Deviding the data to the features and labels\r\n",
        "\r\n",
        "x = dataset.iloc[:, 1:-1].values\r\n",
        "y = dataset.iloc[:, -1].values\r\n",
        "\r\n",
        "print(x[:10])\r\n",
        "print(y[:10])"
      ],
      "execution_count": 20,
      "outputs": [
        {
          "output_type": "stream",
          "text": [
            "[[1 1 0 1 0 0 1 1 0 0 0 0 0]\n",
            " [1 1 1 0 1 1 1 0 1 1 0 1 0]\n",
            " [1 0 0 0 1 0 0 0 1 0 0 1 0]\n",
            " [0 0 0 1 0 0 0 0 1 0 0 0 0]\n",
            " [1 1 1 1 1 0 0 0 0 0 1 0 0]\n",
            " [1 1 0 1 1 0 1 1 0 1 1 1 0]\n",
            " [0 0 0 0 1 1 0 0 0 0 0 0 0]\n",
            " [0 0 0 0 0 0 0 0 0 0 0 0 0]\n",
            " [1 1 1 1 1 0 1 1 1 1 1 0 0]\n",
            " [0 1 1 0 0 1 1 1 0 0 0 1 0]]\n",
            "[1 1 1 0 1 1 0 0 1 1]\n"
          ],
          "name": "stdout"
        }
      ]
    },
    {
      "cell_type": "code",
      "metadata": {
        "id": "h8Ba6qd0pZcf"
      },
      "source": [
        "# Splitting the data to training and test sets\r\n",
        "\r\n",
        "from sklearn.model_selection import train_test_split\r\n",
        "x_train, x_test, y_train, y_test = train_test_split(x, y, test_size = 0.2, random_state = 0)"
      ],
      "execution_count": 21,
      "outputs": []
    },
    {
      "cell_type": "code",
      "metadata": {
        "id": "4-Qqm2-YutMy"
      },
      "source": [
        "# Scaling the dataset\r\n",
        "from sklearn.preprocessing import StandardScaler\r\n",
        "\r\n",
        "sc = StandardScaler()\r\n",
        "x_train = sc.fit_transform(x_train)\r\n",
        "x_test = sc.transform(x_test)"
      ],
      "execution_count": 22,
      "outputs": []
    },
    {
      "cell_type": "code",
      "metadata": {
        "colab": {
          "base_uri": "https://localhost:8080/"
        },
        "id": "gEIzjZONu9KW",
        "outputId": "6ea2d1ee-586e-4d20-f42b-45aa1c5ea576"
      },
      "source": [
        "# Creating the model\r\n",
        "from sklearn.linear_model import LogisticRegression\r\n",
        "\r\n",
        "classifier = LogisticRegression(multi_class='ovr', random_state = 0)\r\n",
        "classifier.fit(x_train, y_train)"
      ],
      "execution_count": 23,
      "outputs": [
        {
          "output_type": "execute_result",
          "data": {
            "text/plain": [
              "LogisticRegression(C=1.0, class_weight=None, dual=False, fit_intercept=True,\n",
              "                   intercept_scaling=1, l1_ratio=None, max_iter=100,\n",
              "                   multi_class='ovr', n_jobs=None, penalty='l2', random_state=0,\n",
              "                   solver='lbfgs', tol=0.0001, verbose=0, warm_start=False)"
            ]
          },
          "metadata": {
            "tags": []
          },
          "execution_count": 23
        }
      ]
    },
    {
      "cell_type": "code",
      "metadata": {
        "colab": {
          "base_uri": "https://localhost:8080/"
        },
        "id": "haYXfiJmvBdo",
        "outputId": "ec257441-700a-4161-95ae-4bb77e0bd97f"
      },
      "source": [
        "# Predicting the results\r\n",
        "from sklearn.metrics import confusion_matrix, accuracy_score\r\n",
        "\r\n",
        "predictions = classifier.predict(x_test)\r\n",
        "cm = confusion_matrix(predictions, y_test)\r\n",
        "print(cm)\r\n",
        "accuracy_score(predictions, y_test)"
      ],
      "execution_count": 24,
      "outputs": [
        {
          "output_type": "stream",
          "text": [
            "[[15  7]\n",
            " [ 5 24]]\n"
          ],
          "name": "stdout"
        },
        {
          "output_type": "execute_result",
          "data": {
            "text/plain": [
              "0.7647058823529411"
            ]
          },
          "metadata": {
            "tags": []
          },
          "execution_count": 24
        }
      ]
    }
  ]
}